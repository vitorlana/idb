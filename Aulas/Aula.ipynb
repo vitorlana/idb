{
  "nbformat": 4,
  "nbformat_minor": 0,
  "metadata": {
    "colab": {
      "name": "Aula.ipynb",
      "version": "0.3.2",
      "provenance": [],
      "collapsed_sections": [
        "E9wEfW3Jhwwn",
        "iwq53zOoh4k_",
        "oMJFmiF0h-kn",
        "YERvUJE_iAmG",
        "lM1J09sljesZ",
        "lw6T2QCFiFTH",
        "PmljyiyZiLrJ",
        "7rPO7eAJiUAB",
        "t1qoD0jyiXeZ"
      ]
    },
    "kernelspec": {
      "name": "python3",
      "display_name": "Python 3"
    }
  },
  "cells": [
    {
      "cell_type": "code",
      "metadata": {
        "id": "T69J2DS2gNwz",
        "colab_type": "code",
        "colab": {}
      },
      "source": [
        "import sqlite3\n",
        "import pandas as pd"
      ],
      "execution_count": 0,
      "outputs": []
    },
    {
      "cell_type": "markdown",
      "metadata": {
        "id": "E9wEfW3Jhwwn",
        "colab_type": "text"
      },
      "source": [
        "## Primeiros passos com Jupyter + SQLite3"
      ]
    },
    {
      "cell_type": "code",
      "metadata": {
        "id": "5IZ9hc87h2Fn",
        "colab_type": "code",
        "outputId": "d9108f0c-e2d5-46a3-c07c-0deabe8fd8df",
        "colab": {
          "base_uri": "https://localhost:8080/",
          "height": 34
        }
      },
      "source": [
        "#Criando um bd em arquivo\n",
        "# conectando...\n",
        "conn = sqlite3.connect('estados.db')\n",
        "# definindo um cursor\n",
        "cursor = conn.cursor()\n",
        "\n",
        "# criando a tabela (schema)\n",
        "cursor.execute(\"\"\"\n",
        "CREATE TABLE estados (\n",
        "        id INTEGER NOT NULL PRIMARY KEY AUTOINCREMENT,\n",
        "        uf TEXT NOT NULL,\n",
        "        estado TEXT NOT NULL\n",
        ");\n",
        "\"\"\")\n",
        "\n",
        "print('Tabela criada com sucesso.')\n",
        "# desconectando...\n",
        "conn.close()"
      ],
      "execution_count": 0,
      "outputs": [
        {
          "output_type": "stream",
          "text": [
            "Tabela criada com sucesso.\n"
          ],
          "name": "stdout"
        }
      ]
    },
    {
      "cell_type": "markdown",
      "metadata": {
        "id": "iwq53zOoh4k_",
        "colab_type": "text"
      },
      "source": [
        "## Populando BD"
      ]
    },
    {
      "cell_type": "code",
      "metadata": {
        "id": "mvopnTBziHhA",
        "colab_type": "code",
        "outputId": "138ac029-c5c2-4f59-ab50-45311aa2cbef",
        "colab": {
          "base_uri": "https://localhost:8080/",
          "height": 34
        }
      },
      "source": [
        "one = (\"AC\", \"ACRE\")\n",
        "\n",
        "\n",
        "#Populando uma instancia por vez\n",
        "conn = sqlite3.connect('estados.db')\n",
        "cursor = conn.cursor()\n",
        "\n",
        "cursor.execute(\"\"\"\n",
        "INSERT INTO estados (uf, estado)\n",
        "VALUES ('AC', 'ACRE')\n",
        "\"\"\")\n",
        "\n",
        "# gravando no bd\n",
        "conn.commit()\n",
        "conn.close()\n",
        "\n",
        "#Olhando o BD\n",
        "conn = sqlite3.connect('estados.db')\n",
        "cursor = conn.execute('select * from estados')\n",
        "rows = cursor.fetchall()\n",
        "conn.close()\n",
        "rows"
      ],
      "execution_count": 0,
      "outputs": [
        {
          "output_type": "execute_result",
          "data": {
            "text/plain": [
              "[(1, 'AC', 'ACRE')]"
            ]
          },
          "metadata": {
            "tags": []
          },
          "execution_count": 3
        }
      ]
    },
    {
      "cell_type": "code",
      "metadata": {
        "id": "wSNtGNR5i-FN",
        "colab_type": "code",
        "outputId": "2da9ee1d-8d56-4b50-a672-e36600a155e4",
        "colab": {
          "base_uri": "https://localhost:8080/",
          "height": 476
        }
      },
      "source": [
        "\n",
        "many = [(\"AL\", \"ALAGOAS\"), \n",
        "(\"AP\", \"AMAPÁ\"), \n",
        "(\"AM\", \"AMAZONAS\"), \n",
        "(\"BA\", \"BAHIA\"), \n",
        "(\"CE\", \"CEARÁ\"), \n",
        "(\"DF\", \"DISTRITO FEDERAL\"), \n",
        "(\"GO\", \"GOIÁS\"), \n",
        "(\"ES\", \"ESPÍRITO SANTO\"), \n",
        "(\"MA\", \"MARANHÃO\"), \n",
        "(\"MT\", \"MATO GROSSO\"), \n",
        "(\"MS\", \"MATO GROSSO DO SUL\"), \n",
        "(\"MG\", \"MINAS GERAIS\"), \n",
        "(\"PA\", \"PARÁ\"), \n",
        "(\"PB\", \"PARAIBA\"), \n",
        "(\"PR\", \"PARANÁ\"), \n",
        "(\"PE\", \"PERNAMBUCO\"), \n",
        "(\"PI\", \"PIAUÍ\"), \n",
        "(\"RJ\", \"RIO DE JANEIRO\"), \n",
        "(\"RN\", \"RIO GRANDE DO NORTE\"), \n",
        "(\"RS\", \"RIO GRANDE DO SUL\"), \n",
        "(\"RO\", \"RONDÔNIA\"), \n",
        "(\"RR\", \"RORAIMA\"), \n",
        "(\"SP\", \"SÃO PAULO\"), \n",
        "(\"SC\", \"SANTA CATARINA\"), \n",
        "(\"SE\", \"SERGIPE\"), \n",
        "(\"TO\", \"TOCANTINS\")]\n",
        "\n",
        "#Populando varias instancias por vez\n",
        "conn = sqlite3.connect('estados.db')\n",
        "cursor = conn.cursor()\n",
        "\n",
        "# inserindo dados na tabela\n",
        "cursor.executemany(\"\"\"\n",
        "INSERT INTO estados (uf, estado)\n",
        "VALUES (?,?)\n",
        "\"\"\", many)\n",
        "\n",
        "conn.commit()\n",
        "conn.close()\n",
        "\n",
        "#Olhando o BD\n",
        "conn = sqlite3.connect('estados.db')\n",
        "sql = \"\"\"select * from estados\"\"\"\n",
        "cursor = conn.execute(sql)\n",
        "rows = cursor.fetchall()\n",
        "conn.close()\n",
        "#\n",
        "rows"
      ],
      "execution_count": 0,
      "outputs": [
        {
          "output_type": "execute_result",
          "data": {
            "text/plain": [
              "[(1, 'AC', 'ACRE'),\n",
              " (2, 'AL', 'ALAGOAS'),\n",
              " (3, 'AP', 'AMAPÁ'),\n",
              " (4, 'AM', 'AMAZONAS'),\n",
              " (5, 'BA', 'BAHIA'),\n",
              " (6, 'CE', 'CEARÁ'),\n",
              " (7, 'DF', 'DISTRITO FEDERAL'),\n",
              " (8, 'GO', 'GOIÁS'),\n",
              " (9, 'ES', 'ESPÍRITO SANTO'),\n",
              " (10, 'MA', 'MARANHÃO'),\n",
              " (11, 'MT', 'MATO GROSSO'),\n",
              " (12, 'MS', 'MATO GROSSO DO SUL'),\n",
              " (13, 'MG', 'MINAS GERAIS'),\n",
              " (14, 'PA', 'PARÁ'),\n",
              " (15, 'PB', 'PARAIBA'),\n",
              " (16, 'PR', 'PARANÁ'),\n",
              " (17, 'PE', 'PERNAMBUCO'),\n",
              " (18, 'PI', 'PIAUÍ'),\n",
              " (19, 'RJ', 'RIO DE JANEIRO'),\n",
              " (20, 'RN', 'RIO GRANDE DO NORTE'),\n",
              " (21, 'RS', 'RIO GRANDE DO SUL'),\n",
              " (22, 'RO', 'RONDÔNIA'),\n",
              " (23, 'RR', 'RORAIMA'),\n",
              " (24, 'SP', 'SÃO PAULO'),\n",
              " (25, 'SC', 'SANTA CATARINA'),\n",
              " (26, 'SE', 'SERGIPE'),\n",
              " (27, 'TO', 'TOCANTINS')]"
            ]
          },
          "metadata": {
            "tags": []
          },
          "execution_count": 4
        }
      ]
    },
    {
      "cell_type": "markdown",
      "metadata": {
        "id": "oMJFmiF0h-kn",
        "colab_type": "text"
      },
      "source": [
        "## Definindo funções - CRUD"
      ]
    },
    {
      "cell_type": "code",
      "metadata": {
        "id": "F6lM2c_eiGBP",
        "colab_type": "code",
        "colab": {}
      },
      "source": [
        "def db_insert(uf, estado):\n",
        "    return \"\"\"\n",
        "    INSERT INTO estados (uf, estado)\n",
        "    VALUES ('{}', '{}')\n",
        "    \"\"\".format(uf, estado)\n",
        "  \n",
        "def db_update(uf, ufnew):\n",
        "    return \"\"\"\n",
        "    UPDATE estados SET uf = '{}' WHERE uf = '{}'\n",
        "    \"\"\".format(ufnew, uf)\n",
        "\n",
        "def db_delete(uf):\n",
        "    return \"\"\"\n",
        "    DELETE FROM estados WHERE uf = '{}'\n",
        "    \"\"\".format(uf)\n",
        "  \n",
        "def db_select(field, data):\n",
        "    return \"\"\"\n",
        "    select id, uf \n",
        "    FROM estados\n",
        "    WHERE {}='{}'\n",
        "    \"\"\".format(field, data)"
      ],
      "execution_count": 0,
      "outputs": []
    },
    {
      "cell_type": "markdown",
      "metadata": {
        "id": "YERvUJE_iAmG",
        "colab_type": "text"
      },
      "source": [
        "## Usando as funções"
      ]
    },
    {
      "cell_type": "code",
      "metadata": {
        "id": "9ZprJ8YBiFKw",
        "colab_type": "code",
        "colab": {}
      },
      "source": [
        "#Delete\n",
        "conn = sqlite3.connect('estados.db')\n",
        "cursor = conn.execute(db_delete('SP'))\n",
        "conn.commit()\n",
        "\n",
        "sql = \"\"\"select * from estados\"\"\"\n",
        "cursor = conn.execute(sql)\n",
        "rows = cursor.fetchall()\n",
        "#\n",
        "rows"
      ],
      "execution_count": 0,
      "outputs": []
    },
    {
      "cell_type": "code",
      "metadata": {
        "id": "q8ohIlmijrsw",
        "colab_type": "code",
        "colab": {}
      },
      "source": [
        "#Insert\n",
        "cursor = conn.execute(db_insert('SPP', 'SÃO PAULO'))\n",
        "conn.commit()\n",
        "\n",
        "sql = \"\"\"select * from estados\"\"\"\n",
        "cursor = conn.execute(sql)\n",
        "rows = cursor.fetchall()\n",
        "#\n",
        "rows"
      ],
      "execution_count": 0,
      "outputs": []
    },
    {
      "cell_type": "code",
      "metadata": {
        "id": "gneahnnFj5RG",
        "colab_type": "code",
        "outputId": "69df1302-4c24-4240-fa0a-ddbb531f69ae",
        "colab": {
          "base_uri": "https://localhost:8080/",
          "height": 34
        }
      },
      "source": [
        "#Select\n",
        "\n",
        "cursor = conn.execute(db_select('uf', 'MG'))\n",
        "rows = cursor.fetchone()\n",
        "\n",
        "#\n",
        "rows"
      ],
      "execution_count": 0,
      "outputs": [
        {
          "output_type": "execute_result",
          "data": {
            "text/plain": [
              "(13, 'MG')"
            ]
          },
          "metadata": {
            "tags": []
          },
          "execution_count": 9
        }
      ]
    },
    {
      "cell_type": "code",
      "metadata": {
        "id": "WLvcz9c0jyNf",
        "colab_type": "code",
        "colab": {}
      },
      "source": [
        "#Update\n",
        "\n",
        "cursor = conn.execute(db_update('SPP', 'SP'))\n",
        "conn.commit()\n",
        "\n",
        "sql = \"\"\"select * from estados\"\"\"\n",
        "cursor = conn.execute(sql)\n",
        "rows = cursor.fetchall()\n",
        "conn.close()\n",
        "#\n",
        "rows"
      ],
      "execution_count": 0,
      "outputs": []
    },
    {
      "cell_type": "markdown",
      "metadata": {
        "id": "lM1J09sljesZ",
        "colab_type": "text"
      },
      "source": [
        "## Usando Pandas"
      ]
    },
    {
      "cell_type": "code",
      "metadata": {
        "id": "3MjVNH4vj3If",
        "colab_type": "code",
        "colab": {}
      },
      "source": [
        "ids = []\n",
        "ufs = []\n",
        "estados = []\n",
        "\n",
        "for element in rows:\n",
        "  ids.append(element[0])\n",
        "  ufs.append(element[1])\n",
        "  estados.append(element[2])  "
      ],
      "execution_count": 0,
      "outputs": []
    },
    {
      "cell_type": "code",
      "metadata": {
        "id": "fqo2DEO6jh34",
        "colab_type": "code",
        "colab": {}
      },
      "source": [
        "dic = {\n",
        "    'id': ids,\n",
        "    'uf': ufs,\n",
        "    'estado': estados\n",
        "}\n",
        "dic"
      ],
      "execution_count": 0,
      "outputs": []
    },
    {
      "cell_type": "code",
      "metadata": {
        "id": "T-JHxoEDksOw",
        "colab_type": "code",
        "outputId": "67adb35b-0497-46b4-db32-c5270305f07c",
        "colab": {
          "base_uri": "https://localhost:8080/",
          "height": 204
        }
      },
      "source": [
        "dataframe = pd.DataFrame(dic)\n",
        "dataframe.head()\n"
      ],
      "execution_count": 0,
      "outputs": [
        {
          "output_type": "execute_result",
          "data": {
            "text/html": [
              "<div>\n",
              "<style scoped>\n",
              "    .dataframe tbody tr th:only-of-type {\n",
              "        vertical-align: middle;\n",
              "    }\n",
              "\n",
              "    .dataframe tbody tr th {\n",
              "        vertical-align: top;\n",
              "    }\n",
              "\n",
              "    .dataframe thead th {\n",
              "        text-align: right;\n",
              "    }\n",
              "</style>\n",
              "<table border=\"1\" class=\"dataframe\">\n",
              "  <thead>\n",
              "    <tr style=\"text-align: right;\">\n",
              "      <th></th>\n",
              "      <th>id</th>\n",
              "      <th>uf</th>\n",
              "      <th>estado</th>\n",
              "    </tr>\n",
              "  </thead>\n",
              "  <tbody>\n",
              "    <tr>\n",
              "      <th>0</th>\n",
              "      <td>1</td>\n",
              "      <td>AC</td>\n",
              "      <td>ACRE</td>\n",
              "    </tr>\n",
              "    <tr>\n",
              "      <th>1</th>\n",
              "      <td>2</td>\n",
              "      <td>AL</td>\n",
              "      <td>ALAGOAS</td>\n",
              "    </tr>\n",
              "    <tr>\n",
              "      <th>2</th>\n",
              "      <td>3</td>\n",
              "      <td>AP</td>\n",
              "      <td>AMAPÁ</td>\n",
              "    </tr>\n",
              "    <tr>\n",
              "      <th>3</th>\n",
              "      <td>4</td>\n",
              "      <td>AM</td>\n",
              "      <td>AMAZONAS</td>\n",
              "    </tr>\n",
              "    <tr>\n",
              "      <th>4</th>\n",
              "      <td>5</td>\n",
              "      <td>BA</td>\n",
              "      <td>BAHIA</td>\n",
              "    </tr>\n",
              "  </tbody>\n",
              "</table>\n",
              "</div>"
            ],
            "text/plain": [
              "   id  uf    estado\n",
              "0   1  AC      ACRE\n",
              "1   2  AL   ALAGOAS\n",
              "2   3  AP     AMAPÁ\n",
              "3   4  AM  AMAZONAS\n",
              "4   5  BA     BAHIA"
            ]
          },
          "metadata": {
            "tags": []
          },
          "execution_count": 16
        }
      ]
    },
    {
      "cell_type": "markdown",
      "metadata": {
        "id": "lw6T2QCFiFTH",
        "colab_type": "text"
      },
      "source": [
        "## Introdução a Chave estrangeira"
      ]
    },
    {
      "cell_type": "code",
      "metadata": {
        "id": "RBMpzUajiLlX",
        "colab_type": "code",
        "colab": {}
      },
      "source": [
        "\n",
        "conn = sqlite3.connect('artistexample.db')\n",
        "conn.execute(\"PRAGMA foreign_keys = 1\")\n",
        "cursor = conn.cursor()\n",
        "\n",
        "\n",
        "cursor.execute(\"\"\"\n",
        "CREATE TABLE artist(\n",
        "  artistid    INTEGER PRIMARY KEY, \n",
        "  artistname  TEXT\n",
        ");\n",
        "\"\"\")\n",
        "\n",
        "conn.commit()\n",
        "\n",
        "\n",
        "cursor.execute(\"\"\"\n",
        "CREATE TABLE track(\n",
        "  trackid     INTEGER, \n",
        "  trackname   TEXT, \n",
        "  trackartist INTEGER,\n",
        "  FOREIGN KEY(trackartist) REFERENCES artist(artistid)\n",
        ");\n",
        "\"\"\")\n",
        "conn.commit()"
      ],
      "execution_count": 0,
      "outputs": []
    },
    {
      "cell_type": "code",
      "metadata": {
        "id": "cb41-3JNk6R2",
        "colab_type": "code",
        "outputId": "f2066bf3-17bf-48c0-af6c-926a406ddb58",
        "colab": {
          "base_uri": "https://localhost:8080/",
          "height": 68
        }
      },
      "source": [
        "cursor.execute(\"PRAGMA table_info('track')\").fetchall()"
      ],
      "execution_count": 0,
      "outputs": [
        {
          "output_type": "execute_result",
          "data": {
            "text/plain": [
              "[(0, 'trackid', 'INTEGER', 0, None, 0),\n",
              " (1, 'trackname', 'TEXT', 0, None, 0),\n",
              " (2, 'trackartist', 'INTEGER', 0, None, 0)]"
            ]
          },
          "metadata": {
            "tags": []
          },
          "execution_count": 18
        }
      ]
    },
    {
      "cell_type": "code",
      "metadata": {
        "id": "36dMGjN9k7-e",
        "colab_type": "code",
        "colab": {}
      },
      "source": [
        "# inserindo dados na tabela\n",
        "cursor.executemany(\"\"\"\n",
        "INSERT INTO artist (artistid, artistname)\n",
        "VALUES (?,?)\n",
        "\"\"\", [(1,'Dean Martin'), (2, 'Frank Sinatra')])\n",
        "\n",
        "conn.commit()\n",
        "\n",
        "tracks = [\n",
        "(11, \"That's Amore\", 1),  \n",
        "(12, \"Christmas Blues\", 1),  \n",
        "(13, \"My Way\", 2), \n",
        "]\n",
        "\n",
        "cursor.executemany(\"\"\"\n",
        "INSERT INTO track (trackid, trackname, trackartist)\n",
        "VALUES (?,?,?)\n",
        "\"\"\", tracks)\n",
        "\n",
        "conn.commit()"
      ],
      "execution_count": 0,
      "outputs": []
    },
    {
      "cell_type": "code",
      "metadata": {
        "id": "0414uxklk935",
        "colab_type": "code",
        "outputId": "e22ba293-2925-492b-d040-629dfc57dad1",
        "colab": {
          "base_uri": "https://localhost:8080/",
          "height": 34
        }
      },
      "source": [
        "cursor.execute(\"SELECT * FROM artist;\").fetchall()"
      ],
      "execution_count": 0,
      "outputs": [
        {
          "output_type": "execute_result",
          "data": {
            "text/plain": [
              "[(1, 'Dean Martin'), (2, 'Frank Sinatra')]"
            ]
          },
          "metadata": {
            "tags": []
          },
          "execution_count": 20
        }
      ]
    },
    {
      "cell_type": "code",
      "metadata": {
        "id": "zgFIVZeClAsn",
        "colab_type": "code",
        "outputId": "fd0a9506-9897-405f-eca3-e9a671ef2fc4",
        "colab": {
          "base_uri": "https://localhost:8080/",
          "height": 34
        }
      },
      "source": [
        "cursor.execute(\"SELECT * FROM track;\").fetchall()"
      ],
      "execution_count": 0,
      "outputs": [
        {
          "output_type": "execute_result",
          "data": {
            "text/plain": [
              "[(11, \"That's Amore\", 1), (12, 'Christmas Blues', 1), (13, 'My Way', 2)]"
            ]
          },
          "metadata": {
            "tags": []
          },
          "execution_count": 21
        }
      ]
    },
    {
      "cell_type": "markdown",
      "metadata": {
        "id": "PmljyiyZiLrJ",
        "colab_type": "text"
      },
      "source": [
        "### O que irá acontecer?"
      ]
    },
    {
      "cell_type": "code",
      "metadata": {
        "id": "kkVENXfsiT5e",
        "colab_type": "code",
        "outputId": "096ad3f4-8da2-4373-89c7-e613656d3c85",
        "colab": {
          "base_uri": "https://localhost:8080/",
          "height": 282
        }
      },
      "source": [
        "cursor.execute(\"\"\"\n",
        "INSERT INTO track VALUES(14, 'Mr. Bojangles', 3);\n",
        "\"\"\")\n",
        "conn.commit()"
      ],
      "execution_count": 0,
      "outputs": [
        {
          "output_type": "stream",
          "text": [
            "ERROR:root:An unexpected error occurred while tokenizing input\n",
            "The following traceback may be corrupted or invalid\n",
            "The error message is: ('EOF in multi-line string', (1, 0))\n",
            "\n"
          ],
          "name": "stderr"
        },
        {
          "output_type": "error",
          "ename": "IntegrityError",
          "evalue": "ignored",
          "traceback": [
            "\u001b[0;31m---------------------------------------------------------------------------\u001b[0m",
            "\u001b[0;31mIntegrityError\u001b[0m                            Traceback (most recent call last)",
            "\u001b[0;32m<ipython-input-22-eb767167b461>\u001b[0m in \u001b[0;36m<module>\u001b[0;34m()\u001b[0m\n\u001b[1;32m      1\u001b[0m cursor.execute(\"\"\"\n\u001b[1;32m      2\u001b[0m \u001b[0mINSERT\u001b[0m \u001b[0mINTO\u001b[0m \u001b[0mtrack\u001b[0m \u001b[0mVALUES\u001b[0m\u001b[0;34m(\u001b[0m\u001b[0;36m14\u001b[0m\u001b[0;34m,\u001b[0m \u001b[0;34m'Mr. Bojangles'\u001b[0m\u001b[0;34m,\u001b[0m \u001b[0;36m3\u001b[0m\u001b[0;34m)\u001b[0m\u001b[0;34m;\u001b[0m\u001b[0;34m\u001b[0m\u001b[0;34m\u001b[0m\u001b[0m\n\u001b[0;32m----> 3\u001b[0;31m \"\"\")\n\u001b[0m\u001b[1;32m      4\u001b[0m \u001b[0mconn\u001b[0m\u001b[0;34m.\u001b[0m\u001b[0mcommit\u001b[0m\u001b[0;34m(\u001b[0m\u001b[0;34m)\u001b[0m\u001b[0;34m\u001b[0m\u001b[0;34m\u001b[0m\u001b[0m\n",
            "\u001b[0;31mIntegrityError\u001b[0m: FOREIGN KEY constraint failed"
          ]
        }
      ]
    },
    {
      "cell_type": "code",
      "metadata": {
        "id": "urC_memulNrW",
        "colab_type": "code",
        "outputId": "78e09454-f9c8-40d1-b1dd-1fef0a433eb8",
        "colab": {
          "base_uri": "https://localhost:8080/",
          "height": 34
        }
      },
      "source": [
        "cursor.execute(\"SELECT * FROM track;\").fetchall()"
      ],
      "execution_count": 0,
      "outputs": [
        {
          "output_type": "execute_result",
          "data": {
            "text/plain": [
              "[(11, \"That's Amore\", 1), (12, 'Christmas Blues', 1), (13, 'My Way', 2)]"
            ]
          },
          "metadata": {
            "tags": []
          },
          "execution_count": 23
        }
      ]
    },
    {
      "cell_type": "code",
      "metadata": {
        "id": "v_7yV1kklPzW",
        "colab_type": "code",
        "colab": {}
      },
      "source": [
        "cursor.execute(\"\"\"\n",
        "INSERT INTO track VALUES(14, 'Mr. Bojangles', NULL);\n",
        "\"\"\")\n",
        "conn.commit()"
      ],
      "execution_count": 0,
      "outputs": []
    },
    {
      "cell_type": "code",
      "metadata": {
        "id": "C84INZ-vlRLu",
        "colab_type": "code",
        "outputId": "2f0e4fb2-53ab-4018-f4bf-6bf1d0bc10e1",
        "colab": {
          "base_uri": "https://localhost:8080/",
          "height": 85
        }
      },
      "source": [
        "cursor.execute(\"SELECT * FROM track;\").fetchall()"
      ],
      "execution_count": 0,
      "outputs": [
        {
          "output_type": "execute_result",
          "data": {
            "text/plain": [
              "[(11, \"That's Amore\", 1),\n",
              " (12, 'Christmas Blues', 1),\n",
              " (13, 'My Way', 2),\n",
              " (14, 'Mr. Bojangles', None)]"
            ]
          },
          "metadata": {
            "tags": []
          },
          "execution_count": 25
        }
      ]
    },
    {
      "cell_type": "code",
      "metadata": {
        "id": "011bWCyLlStN",
        "colab_type": "code",
        "outputId": "3139f1c9-3875-4144-c295-fedfdc2c76a0",
        "colab": {
          "base_uri": "https://localhost:8080/",
          "height": 299
        }
      },
      "source": [
        "cursor.execute(\"\"\"\n",
        "UPDATE track SET trackartist = 3 WHERE trackname = 'Mr. Bojangles';\n",
        "\"\"\")\n",
        "conn.commit()\n",
        "cursor.execute(\"SELECT * FROM track;\").fetchall()"
      ],
      "execution_count": 0,
      "outputs": [
        {
          "output_type": "stream",
          "text": [
            "ERROR:root:An unexpected error occurred while tokenizing input\n",
            "The following traceback may be corrupted or invalid\n",
            "The error message is: ('EOF in multi-line string', (1, 0))\n",
            "\n"
          ],
          "name": "stderr"
        },
        {
          "output_type": "error",
          "ename": "IntegrityError",
          "evalue": "ignored",
          "traceback": [
            "\u001b[0;31m---------------------------------------------------------------------------\u001b[0m",
            "\u001b[0;31mIntegrityError\u001b[0m                            Traceback (most recent call last)",
            "\u001b[0;32m<ipython-input-26-497867bc2c09>\u001b[0m in \u001b[0;36m<module>\u001b[0;34m()\u001b[0m\n\u001b[1;32m      1\u001b[0m cursor.execute(\"\"\"\n\u001b[1;32m      2\u001b[0m \u001b[0mUPDATE\u001b[0m \u001b[0mtrack\u001b[0m \u001b[0mSET\u001b[0m \u001b[0mtrackartist\u001b[0m \u001b[0;34m=\u001b[0m \u001b[0;36m3\u001b[0m \u001b[0mWHERE\u001b[0m \u001b[0mtrackname\u001b[0m \u001b[0;34m=\u001b[0m \u001b[0;34m'Mr. Bojangles'\u001b[0m\u001b[0;34m;\u001b[0m\u001b[0;34m\u001b[0m\u001b[0;34m\u001b[0m\u001b[0m\n\u001b[0;32m----> 3\u001b[0;31m \"\"\")\n\u001b[0m\u001b[1;32m      4\u001b[0m \u001b[0mconn\u001b[0m\u001b[0;34m.\u001b[0m\u001b[0mcommit\u001b[0m\u001b[0;34m(\u001b[0m\u001b[0;34m)\u001b[0m\u001b[0;34m\u001b[0m\u001b[0;34m\u001b[0m\u001b[0m\n\u001b[1;32m      5\u001b[0m \u001b[0mcursor\u001b[0m\u001b[0;34m.\u001b[0m\u001b[0mexecute\u001b[0m\u001b[0;34m(\u001b[0m\u001b[0;34m\"SELECT * FROM track;\"\u001b[0m\u001b[0;34m)\u001b[0m\u001b[0;34m.\u001b[0m\u001b[0mfetchall\u001b[0m\u001b[0;34m(\u001b[0m\u001b[0;34m)\u001b[0m\u001b[0;34m\u001b[0m\u001b[0;34m\u001b[0m\u001b[0m\n",
            "\u001b[0;31mIntegrityError\u001b[0m: FOREIGN KEY constraint failed"
          ]
        }
      ]
    },
    {
      "cell_type": "code",
      "metadata": {
        "id": "Bow97fn2lT7t",
        "colab_type": "code",
        "outputId": "71bba78b-5937-4724-8ff3-e88cf286cbd5",
        "colab": {
          "base_uri": "https://localhost:8080/",
          "height": 85
        }
      },
      "source": [
        "\n",
        "cursor.execute(\"\"\"\n",
        "INSERT INTO artist VALUES(3, 'Sammy Davis Jr.');\n",
        "\"\"\")\n",
        "conn.commit()\n",
        "cursor.execute(\"\"\"\n",
        "UPDATE track SET trackartist = 3 WHERE trackname = 'Mr. Bojangles';\n",
        "\"\"\")\n",
        "conn.commit()\n",
        "cursor.execute(\"SELECT * FROM track;\").fetchall()"
      ],
      "execution_count": 0,
      "outputs": [
        {
          "output_type": "execute_result",
          "data": {
            "text/plain": [
              "[(11, \"That's Amore\", 1),\n",
              " (12, 'Christmas Blues', 1),\n",
              " (13, 'My Way', 2),\n",
              " (14, 'Mr. Bojangles', 3)]"
            ]
          },
          "metadata": {
            "tags": []
          },
          "execution_count": 27
        }
      ]
    },
    {
      "cell_type": "code",
      "metadata": {
        "id": "hZMoFhtplYII",
        "colab_type": "code",
        "outputId": "971b3f52-60f8-462d-8b37-bb8ae09cc27f",
        "colab": {
          "base_uri": "https://localhost:8080/",
          "height": 34
        }
      },
      "source": [
        "cursor.execute(\"SELECT * FROM artist;\").fetchall()"
      ],
      "execution_count": 0,
      "outputs": [
        {
          "output_type": "execute_result",
          "data": {
            "text/plain": [
              "[(1, 'Dean Martin'), (2, 'Frank Sinatra'), (3, 'Sammy Davis Jr.')]"
            ]
          },
          "metadata": {
            "tags": []
          },
          "execution_count": 28
        }
      ]
    },
    {
      "cell_type": "code",
      "metadata": {
        "id": "ynA6rPn3lZYm",
        "colab_type": "code",
        "outputId": "ad7053d7-bcd9-4d51-d427-e0aa707c5d41",
        "colab": {
          "base_uri": "https://localhost:8080/",
          "height": 102
        }
      },
      "source": [
        "cursor.execute(\"\"\"\n",
        "INSERT INTO track VALUES(15, 'Boogie Woogie', 3);\n",
        "\"\"\")\n",
        "conn.commit()\n",
        "cursor.execute(\"SELECT * FROM track;\").fetchall()"
      ],
      "execution_count": 0,
      "outputs": [
        {
          "output_type": "execute_result",
          "data": {
            "text/plain": [
              "[(11, \"That's Amore\", 1),\n",
              " (12, 'Christmas Blues', 1),\n",
              " (13, 'My Way', 2),\n",
              " (14, 'Mr. Bojangles', 3),\n",
              " (15, 'Boogie Woogie', 3)]"
            ]
          },
          "metadata": {
            "tags": []
          },
          "execution_count": 29
        }
      ]
    },
    {
      "cell_type": "markdown",
      "metadata": {
        "id": "7rPO7eAJiUAB",
        "colab_type": "text"
      },
      "source": [
        "## Introdução a alteração de esquemas"
      ]
    },
    {
      "cell_type": "code",
      "metadata": {
        "id": "RudMKpetiXXu",
        "colab_type": "code",
        "outputId": "dee548d8-4191-4f66-f407-8d8f0a6087be",
        "colab": {
          "base_uri": "https://localhost:8080/",
          "height": 102
        }
      },
      "source": [
        "conn = sqlite3.connect('artistexample.db')\n",
        "conn.execute(\"PRAGMA foreign_keys = 1\")\n",
        "cursor = conn.cursor()\n",
        "cursor.execute(\"\"\"\n",
        "ALTER TABLE track\n",
        "ADD JOB TEXT;\n",
        "\"\"\")\n",
        "conn.commit()\n",
        "cursor.execute(\"SELECT * FROM track;\").fetchall()"
      ],
      "execution_count": 0,
      "outputs": [
        {
          "output_type": "execute_result",
          "data": {
            "text/plain": [
              "[(11, \"That's Amore\", 1, None),\n",
              " (12, 'Christmas Blues', 1, None),\n",
              " (13, 'My Way', 2, None),\n",
              " (14, 'Mr. Bojangles', 3, None),\n",
              " (15, 'Boogie Woogie', 3, None)]"
            ]
          },
          "metadata": {
            "tags": []
          },
          "execution_count": 30
        }
      ]
    },
    {
      "cell_type": "markdown",
      "metadata": {
        "id": "t1qoD0jyiXeZ",
        "colab_type": "text"
      },
      "source": [
        "## Exercicios"
      ]
    },
    {
      "cell_type": "markdown",
      "metadata": {
        "id": "qepRTEmHlnkP",
        "colab_type": "text"
      },
      "source": [
        "![alt text](http://www.sqlitetutorial.net/wp-content/uploads/2015/11/sqlite-sample-database-color.jpg)"
      ]
    },
    {
      "cell_type": "markdown",
      "metadata": {
        "id": "xygkESJ_l1iU",
        "colab_type": "text"
      },
      "source": [
        "### There are 11 tables in the chinook sample database.\n",
        "\n",
        "->  employees table stores employees data such as employee id, last name, first name, etc. It also has a field named ReportsTo to specify who reports to whom.\n",
        "\n",
        "->  customers table stores customers data.\n",
        "\n",
        "->  invoices & invoice_items tables: these two tables store invoice data. The invoices table stores invoice header data and the invoice_items table stores the invoice line items data.\n",
        "\n",
        "->  artists table stores artists data. It is a simple table that contains only artist id and name.\n",
        "\n",
        "->  albums table stores data about a list of tracks. Each album belongs to one artist. However, one artist may have multiple albums.\n",
        "\n",
        "->  media_types table stores media types such as MPEG audio and AAC audio file.\n",
        "\n",
        "->  genres table stores music types such as rock, jazz, metal, etc.\n",
        "\n",
        "->  tracks table store the data of songs. Each track belongs to one album.\n",
        "\n",
        "->  playlists & playlist_track tables: playlists table store data about playlists. Each playlist contains a list of tracks. Each track may belong to multiple playlists. The relationship between the playlists table and tracks table is many-to-many. The playlist_track table is used to reflect this relationship."
      ]
    },
    {
      "cell_type": "markdown",
      "metadata": {
        "id": "k0XoS6Sfl6tU",
        "colab_type": "text"
      },
      "source": [
        "1. Sobrenome do gerente que possui mais funcionáios que reportam a ele.\n",
        "2. Genero com maior quantidade de musicas\n",
        "3. Nome do cliente com maior consumo na loja\n",
        "4. Nome da Playlist de maior duração\n",
        "5. Nome do cantor do genero ROCK que possui mais musicas incluidas em playlist.\n",
        "\n"
      ]
    },
    {
      "cell_type": "code",
      "metadata": {
        "id": "9TKHrWTwibC2",
        "colab_type": "code",
        "outputId": "1c731211-f393-4074-b011-bfdeb968363a",
        "colab": {
          "base_uri": "https://localhost:8080/",
          "height": 204
        }
      },
      "source": [
        "!wget http://www.sqlitetutorial.net/wp-content/uploads/2018/03/chinook.zip"
      ],
      "execution_count": 0,
      "outputs": [
        {
          "output_type": "stream",
          "text": [
            "--2019-04-25 22:23:26--  http://www.sqlitetutorial.net/wp-content/uploads/2018/03/chinook.zip\n",
            "Resolving www.sqlitetutorial.net (www.sqlitetutorial.net)... 66.147.244.187\n",
            "Connecting to www.sqlitetutorial.net (www.sqlitetutorial.net)|66.147.244.187|:80... connected.\n",
            "HTTP request sent, awaiting response... 200 OK\n",
            "Length: 305596 (298K) [application/zip]\n",
            "Saving to: ‘chinook.zip’\n",
            "\n",
            "\rchinook.zip           0%[                    ]       0  --.-KB/s               \rchinook.zip          73%[=============>      ] 219.82K   933KB/s               \rchinook.zip         100%[===================>] 298.43K  1.23MB/s    in 0.2s    \n",
            "\n",
            "2019-04-25 22:23:27 (1.23 MB/s) - ‘chinook.zip’ saved [305596/305596]\n",
            "\n"
          ],
          "name": "stdout"
        }
      ]
    },
    {
      "cell_type": "code",
      "metadata": {
        "id": "tb80G_nQlsjj",
        "colab_type": "code",
        "outputId": "99d7ad3b-443f-44ce-b473-4bed517447cf",
        "colab": {
          "base_uri": "https://localhost:8080/",
          "height": 51
        }
      },
      "source": [
        "!unzip chinook.zip"
      ],
      "execution_count": 0,
      "outputs": [
        {
          "output_type": "stream",
          "text": [
            "Archive:  chinook.zip\n",
            "  inflating: chinook.db              \n"
          ],
          "name": "stdout"
        }
      ]
    },
    {
      "cell_type": "code",
      "metadata": {
        "id": "6WhLdsdBmNc7",
        "colab_type": "code",
        "colab": {}
      },
      "source": [
        "conn = sqlite3.connect('chinook.db')"
      ],
      "execution_count": 0,
      "outputs": []
    },
    {
      "cell_type": "code",
      "metadata": {
        "id": "gemDJY3tmSKr",
        "colab_type": "code",
        "colab": {}
      },
      "source": [
        ""
      ],
      "execution_count": 0,
      "outputs": []
    }
  ]
}